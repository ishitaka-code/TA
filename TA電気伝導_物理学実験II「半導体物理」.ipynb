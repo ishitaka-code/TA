{
  "nbformat": 4,
  "nbformat_minor": 0,
  "metadata": {
    "colab": {
      "name": "TA電気伝導_物理学実験II「半導体物理」.ipynb",
      "provenance": [],
      "collapsed_sections": [],
      "authorship_tag": "ABX9TyPHKzEIali/o8HWSs2z2sWg",
      "include_colab_link": true
    },
    "kernelspec": {
      "name": "python3",
      "display_name": "Python 3"
    },
    "language_info": {
      "name": "python"
    }
  },
  "cells": [
    {
      "cell_type": "markdown",
      "metadata": {
        "id": "view-in-github",
        "colab_type": "text"
      },
      "source": [
        "<a href=\"https://colab.research.google.com/github/ishitaka-code/TA/blob/master/TA%E9%9B%BB%E6%B0%97%E4%BC%9D%E5%B0%8E_%E7%89%A9%E7%90%86%E5%AD%A6%E5%AE%9F%E9%A8%93II%E3%80%8C%E5%8D%8A%E5%B0%8E%E4%BD%93%E7%89%A9%E7%90%86%E3%80%8D.ipynb\" target=\"_parent\"><img src=\"https://colab.research.google.com/assets/colab-badge.svg\" alt=\"Open In Colab\"/></a>"
      ]
    },
    {
      "cell_type": "markdown",
      "source": [
        "# 物理学実験II「半導体物理」，テーマ：電気伝導\n",
        "\n",
        "## テキストp12の考察5.のためのJupyter Notebook (Python)．\n",
        "\n",
        "* Google [Colaboratory](https://colab.research.google.com/notebooks/welcome.ipynb?hl=ja)は，クラウド上で動作するJupyter Notebookであり，環境構築不要で[Python](https://ja.wikipedia.org/wiki/Python)が記述，実行できます．（※ログイン必須．時間制限あり．）[Jupyter Notebook](https://ja.wikipedia.org/wiki/Project_Jupyter)は，ブラウザベースのインタラクティブなプログラム実行環境．\n",
        "* 自分のGoogleドライブにコピーを保存：[ファイル] → [ドライブにコピーを保存]．\n",
        "* 各セルを実行するときは「Shift + Enter」または「Ctrl + Enter」．「#」に続けて書いた文章はコメントで，実行されません．\n",
        "* plt.savefigなどで出力されたファイルは左の「ファイル」タブからダウンロードできます．\n",
        "* Pythonはインデントが重要な意味を持ちます．\n",
        " * [Python3チートシート(基本編)](https://qiita.com/1429takahiro/items/710a877b1afb1626334f)\n",
        " * [Pythonプログラミング入門](https://utokyo-ipp.github.io)"
      ],
      "metadata": {
        "id": "ZdgDu4SH1ZXR"
      }
    },
    {
      "cell_type": "code",
      "source": [
        "# 必要なパッケージのインストール\n",
        "%%capture\n",
        "!pip install japanize_matplotlib"
      ],
      "metadata": {
        "id": "LsSK1HHZytub"
      },
      "execution_count": null,
      "outputs": []
    },
    {
      "cell_type": "code",
      "source": [
        "# 必要なパッケージのインポート\n",
        "import numpy as np\n",
        "from scipy import optimize  # 解を求めるときに使用\n",
        "import japanize_matplotlib  # matplotlibの日本語文字化け回避\n",
        "import matplotlib.pyplot as plt\n",
        "# プロット見た目調整\n",
        "plt.rcParams[\"xtick.direction\"] = \"in\"      # x軸の目盛線を内向きに\n",
        "plt.rcParams[\"ytick.direction\"] = \"in\"      # y軸の目盛線を内向きに\n",
        "plt.rcParams[\"xtick.minor.visible\"] = True  # x軸補助目盛りの追加\n",
        "plt.rcParams[\"ytick.minor.visible\"] = True  # y軸補助目盛りの追加"
      ],
      "metadata": {
        "id": "wVObNQrpZGZB"
      },
      "execution_count": null,
      "outputs": []
    },
    {
      "cell_type": "markdown",
      "source": [
        "テキストp.12に示されている$n(T)$の式を用いる．\n",
        "$$\n",
        "n(T) = 4.83 \\times 10^{15} \\left( \\frac{m_e^*}{m_0} \\cdot \\frac{m_h^*}{m_0} \\right)^{ 3/4 } T^{3/2} \\exp \\left( -\\frac{E_g}{2 k_B T} \\right) \\ {\\rm [cm^{-3}]}\n",
        "$$\n",
        "$E_g$は以下で与えられる温度依存のバンドギャップエネルギー（Varshniによる経験則）を代入する．\n",
        "$$\n",
        "E_g(T) = E_g(0)-\\frac{\\alpha T^2}{T+\\beta}\n",
        "$$\n",
        "（下記計算では温度依存性が考慮されておらず$E_g=1.12$ [eV]の定数になっています．）"
      ],
      "metadata": {
        "id": "YvPPLzEGibTj"
      }
    },
    {
      "cell_type": "code",
      "source": [
        "# 各定数の定義\n",
        "kb = 1.380622* 10**(-23)    # [J/K]\n",
        "e = 1.6021917* 10**(-19)    # [C]\n",
        "m0 = 9.1093837015* 10**(-31) # [kg]\n",
        "mLe = 0.98* m0  # 電子の縦有効質量\n",
        "mTe = 0.19* m0  # 電子の横有効質量\n",
        "mlh = 0.16* m0  # 軽い正孔の有効質量\n",
        "mhh = 0.49* m0  # 重い正孔の有効質量\n",
        "mde = (mLe * mTe * mTe)**(1/3)          # 電子の状態密度有効質量\n",
        "mdh = (mlh**(3/2) + mhh**(3/2))**(2/3)  # 正孔の状態密度有効質量\n",
        "print(\"mde/m0: \", mde/m0)\n",
        "print(\"mdh/m0: \", mdh/m0)"
      ],
      "metadata": {
        "id": "e1xg2FwSiPVR"
      },
      "execution_count": null,
      "outputs": []
    },
    {
      "cell_type": "code",
      "source": [
        "# def EgeV(T): # 温度依存のEg [eV]\n",
        "\n",
        "\n",
        "def nHighTemp(T): # 真性領域のキャリア密度 [/cm3]\n",
        "    return 4.83 * 10**15 * ((mde/m0)*(mdh/m0))**(3/4) * T**(3/2) * np.exp(- 1.12/(2*(kb/e)*T))"
      ],
      "metadata": {
        "id": "1jiDVfIEj2CZ"
      },
      "execution_count": null,
      "outputs": []
    },
    {
      "cell_type": "code",
      "source": [
        "# 実験により決定した値 [/cm3]\n",
        "Nd = 4.83*(10**15)"
      ],
      "metadata": {
        "id": "3LSFm_nPoS-1"
      },
      "execution_count": null,
      "outputs": []
    },
    {
      "cell_type": "code",
      "source": [
        "# プロット用データの作成\n",
        "Temp = np.linspace(300, 1000, 1000*2)\n",
        "nHighTempData = nHighTemp(Temp)\n",
        "\n",
        "# n(T)とNdをプロットして確認\n",
        "fig, ax = plt.subplots(constrained_layout=True)\n",
        "ax.plot(Temp, nHighTempData, label=\"真性領域のキャリア密度 $n(T)$\")\n",
        "ax.hlines(y=Nd, xmin=0, xmax=Temp.max(), \n",
        "          linestyle=\"--\", label=\"$N_D=$\"+'{:.2e}'.format(Nd)+\" [/cm$^3$]\")\n",
        "ax.set_xlabel(\"$T$ [K]\")\n",
        "ax.set_ylabel(\"$n$ [/cm$^3$]\")\n",
        "ax.set_xlim(400,900)\n",
        "ymax=10**16\n",
        "ax.set_ylim(-ymax*0.05,ymax*1.05)\n",
        "ax.ticklabel_format(axis='y', scilimits=(15,15), useMathText=True)\n",
        "ax.grid()\n",
        "ax.legend()\n",
        "plt.show()"
      ],
      "metadata": {
        "id": "0nB0KMmDq5L7"
      },
      "execution_count": null,
      "outputs": []
    },
    {
      "cell_type": "markdown",
      "source": [
        "$f(T) = n(T)-N_D$と置いて$f(T)=0$の解を数値的に求める．\n",
        "\n",
        "参考リンク\n",
        "\n",
        "\n",
        "*   [Optimization and root finding (scipy.optimize)](https://docs.scipy.org/doc/scipy/reference/optimize.html)\n",
        "*   [pythonで学ぶ計算物理 ドキュメント » 8. 非線型方程式 » 8.1. 非線型方程式の解法](http://www.physics.okayama-u.ac.jp/~otsuki/lecture/CompPhys2/root_find/root_find.html#)\n",
        "*   [ニュートン法(Newton's method)](http://www.yamamo10.jp/yamamoto/lecture/2007/5E_comp_app/nonlinear_equation/nonlinear_eq_html/node4.html)\n",
        "*   [二分法(bisection method)](http://www.yamamo10.jp/yamamoto/lecture/2007/5E_comp_app/nonlinear_equation/nonlinear_eq_html/node3.html)"
      ],
      "metadata": {
        "id": "vxz-y0CB8LLu"
      }
    },
    {
      "cell_type": "code",
      "source": [
        "def f(T):\n",
        "    return nHighTemp(T) - Nd\n",
        "\n",
        "# 近傍の１つの初期値から解を探索（ニュートン法，導関数が与えられない場合はセカント法）．\n",
        "# SolvedT = optimize.newton(f, 700)\n",
        "\n",
        "# 指定した区間内の解を探索（二分法）．遅いが確実．\n",
        "SolvedT = optimize.bisect(f, 700, 800)\n",
        "\n",
        "# 指定した区間内の解を探索（ブレント法）．二分法の改良，一般的に広く使われ優れている．\n",
        "# SolvedT = optimize.brentq(f, 700, 800)\n",
        "\n",
        "print(\"解 [K]: \", SolvedT)"
      ],
      "metadata": {
        "id": "N4OWJIUh6oKq"
      },
      "execution_count": null,
      "outputs": []
    },
    {
      "cell_type": "code",
      "source": [
        "# 結果をプロットして図を保存する\n",
        "fig, ax = plt.subplots(constrained_layout=True)\n",
        "ax.plot(Temp, nHighTempData, \n",
        "        label=\"真性領域のキャリア密度 $n(T)$\")\n",
        "ax.hlines(y=Nd, xmin=0, xmax=Temp.max(), linestyle=\"--\", \n",
        "          label=\"$N_D=$\"+'{:.2e}'.format(Nd)+\" [/cm$^3$]\")\n",
        "ax.scatter(x=SolvedT, y=nHighTemp(SolvedT), marker=\"x\",s=150,c='red', \n",
        "           label=\"$T = $\"+'{:.1f}'.format(SolvedT)+\" [K]\")\n",
        "ax.set_xlabel(\"$T$ [K]\")\n",
        "ax.set_ylabel(\"$n$ [/cm$^3$]\")\n",
        "# ax.set_xlim(600,800)\n",
        "ymax=10**16\n",
        "ax.set_ylim(-ymax*0.05,ymax*1.05)\n",
        "ax.ticklabel_format(axis='y', scilimits=(15,15), useMathText=True)\n",
        "ax.grid()\n",
        "ax.legend()\n",
        "plt.savefig('plot.svg', bbox_inches='tight') # 図の保存\n",
        "# plt.savefig('plot.png', bbox_inches='tight', dpi=300) # 図の保存\n",
        "plt.show()"
      ],
      "metadata": {
        "id": "oT_4BcH-adEO"
      },
      "execution_count": null,
      "outputs": []
    },
    {
      "cell_type": "markdown",
      "source": [
        "\n",
        "---\n",
        "\n",
        "おまけ，不純物領域を重ねてみる．"
      ],
      "metadata": {
        "id": "aek_FeXS-Jlc"
      }
    },
    {
      "cell_type": "code",
      "source": [
        "def nLowTemp(T):\n",
        "    Eion = 0.032 # 実験データから決定\n",
        "    return (1/np.sqrt(2))*4.83*(10**15)*(((mde/m0)*(mdh/m0))**(3/4))*(T**(3/2))*np.exp( -Eion/(2*(kb/e)*T) )"
      ],
      "metadata": {
        "id": "vPeONga66Jnj"
      },
      "execution_count": null,
      "outputs": []
    },
    {
      "cell_type": "code",
      "source": [
        "# プロット用データの作成\n",
        "LowTemp = np.linspace(20, 100, 100*2)\n",
        "nLowTempData = nLowTemp(LowTemp)\n",
        "\n",
        "# プロットする\n",
        "fig, ax = plt.subplots(constrained_layout=True)\n",
        "ax.plot(Temp, nHighTempData, label=\"真性領域のキャリア密度 $n(T)$\")\n",
        "ax.hlines(y=Nd, xmin=0, xmax=Temp.max(), linestyle=\"--\", \n",
        "          label=\"$N_D=$\"+'{:.2e}'.format(Nd)+\" [/cm$^3$]\")\n",
        "ax.plot(LowTemp, nLowTempData, label=\"不純物領域のキャリア密度 $n(T)$\")\n",
        "ax.set_xlabel(\"$T$ [K]\")\n",
        "ax.set_ylabel(\"$n$ [/cm$^3$]\")\n",
        "# ax.set_xlim(600,800)\n",
        "ymax=10**16\n",
        "ax.set_ylim(-ymax*0.05,ymax*1.05)\n",
        "ax.ticklabel_format(axis='y', scilimits=(15,15), useMathText=True)\n",
        "ax.grid()\n",
        "ax.legend()\n",
        "plt.show()"
      ],
      "metadata": {
        "id": "psbccGqJ7h3x"
      },
      "execution_count": null,
      "outputs": []
    },
    {
      "cell_type": "markdown",
      "source": [
        "\n",
        "---\n",
        "\n",
        "## レポートの留意点\n",
        "* 報告書として何をしたかが分かるように書く．\n",
        "* 参考文献・URLは明記する．\n",
        " * 著者，書名，出版社，発行年．\n",
        "* グラフを適切に示す．\n",
        " * 軸の物理量と単位を忘れない．プロット範囲やスケールを適切に設定する．\n",
        " * 複数のプロットを重ねるときは凡例も示す．\n",
        " * フィッティングなどで求めた曲線は元データとともに示し，範囲も示す．\n",
        " * ある物理量を対数軸でプロットすることと，その物理量の対数を線形軸でプロットすることとは異なる．\n",
        "* 最終結果の単位を忘れない．有効数字を意識して，何桁もかかない．\n",
        " * 和差で与えられる計算値は，単位を揃え，各測定値の中で有効数字が切れる最高の桁までを値とする（一つ下の桁で四捨五入）．\n",
        " * 積商で与えられる計算値は，**各測定値の有効数字の一番小さい桁数に合わせる（一つ下の桁で四捨五入）**．\n",
        " * 今回の測定では，$V_{\\rm \\sigma}$は4桁，$V_{\\rm H}$は頑張っても3桁程度．\n",
        "* 誤差をかくときは1桁かけば十分．\n",
        " * $−1.47184\\pm 0.024724$はダメ，$−1.47\\pm 0.02$または$−1.47(2)$．（$\\pm 0.11$や$\\pm 0.13$とかくことはある．）\n",
        "\n",
        "\n",
        "\n",
        "\n"
      ],
      "metadata": {
        "id": "S6r5a5pQaI99"
      }
    }
  ]
}